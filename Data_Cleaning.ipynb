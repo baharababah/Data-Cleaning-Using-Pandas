{
  "nbformat": 4,
  "nbformat_minor": 0,
  "metadata": {
    "colab": {
      "name": "Data Cleaning.ipynb",
      "provenance": [],
      "collapsed_sections": [],
      "authorship_tag": "ABX9TyOHejQDpIPjKRtgzu3ZdXqU",
      "include_colab_link": true
    },
    "kernelspec": {
      "name": "python3",
      "display_name": "Python 3"
    },
    "language_info": {
      "name": "python"
    }
  },
  "cells": [
    {
      "cell_type": "markdown",
      "metadata": {
        "id": "view-in-github",
        "colab_type": "text"
      },
      "source": [
        "<a href=\"https://colab.research.google.com/github/baharababah/Data-Cleaning-Using-Pandas/blob/main/Data_Cleaning.ipynb\" target=\"_parent\"><img src=\"https://colab.research.google.com/assets/colab-badge.svg\" alt=\"Open In Colab\"/></a>"
      ]
    },
    {
      "cell_type": "markdown",
      "metadata": {
        "id": "NIfMspA9Q6qm"
      },
      "source": [
        "\n",
        "\n",
        "> Indented block\n",
        "\n",
        "\n",
        "#**Data Cleaning Using Pandas**\n",
        "\n",
        "\n"
      ]
    },
    {
      "cell_type": "markdown",
      "metadata": {
        "id": "XvNnhfp5RQ3Q"
      },
      "source": [
        "## Import required packages"
      ]
    },
    {
      "cell_type": "code",
      "metadata": {
        "colab": {
          "base_uri": "https://localhost:8080/"
        },
        "id": "ueNyVz73O_po",
        "outputId": "24cdaea5-f78b-4a14-d8d0-ca33028158eb"
      },
      "source": [
        "# import required packages\n",
        "from google.colab import drive \n",
        "drive.mount('/content/drive/')\n",
        "import pandas as pd\n",
        "import numpy as np"
      ],
      "execution_count": 93,
      "outputs": [
        {
          "output_type": "stream",
          "name": "stdout",
          "text": [
            "Drive already mounted at /content/drive/; to attempt to forcibly remount, call drive.mount(\"/content/drive/\", force_remount=True).\n"
          ]
        }
      ]
    },
    {
      "cell_type": "markdown",
      "metadata": {
        "id": "Q8xMGVvHRzlb"
      },
      "source": [
        "## Reading the dataset from the google drive"
      ]
    },
    {
      "cell_type": "code",
      "metadata": {
        "colab": {
          "base_uri": "https://localhost:8080/",
          "height": 206
        },
        "id": "l_P1-UbAR7Zm",
        "outputId": "15cf7efa-d2e6-42f6-f053-3f569e600b58"
      },
      "source": [
        "# Read the Iris data\n",
        "df = pd.read_csv('/content/drive/My Drive/Iris.csv')\n",
        "df.head()"
      ],
      "execution_count": 94,
      "outputs": [
        {
          "output_type": "execute_result",
          "data": {
            "text/html": [
              "<div>\n",
              "<style scoped>\n",
              "    .dataframe tbody tr th:only-of-type {\n",
              "        vertical-align: middle;\n",
              "    }\n",
              "\n",
              "    .dataframe tbody tr th {\n",
              "        vertical-align: top;\n",
              "    }\n",
              "\n",
              "    .dataframe thead th {\n",
              "        text-align: right;\n",
              "    }\n",
              "</style>\n",
              "<table border=\"1\" class=\"dataframe\">\n",
              "  <thead>\n",
              "    <tr style=\"text-align: right;\">\n",
              "      <th></th>\n",
              "      <th>Id</th>\n",
              "      <th>SepalLengthCm</th>\n",
              "      <th>SepalWidthCm</th>\n",
              "      <th>PetalLengthCm</th>\n",
              "      <th>PetalWidthCm</th>\n",
              "      <th>Species</th>\n",
              "    </tr>\n",
              "  </thead>\n",
              "  <tbody>\n",
              "    <tr>\n",
              "      <th>0</th>\n",
              "      <td>1</td>\n",
              "      <td>5.1</td>\n",
              "      <td>3.5</td>\n",
              "      <td>1.4</td>\n",
              "      <td>0.2</td>\n",
              "      <td>Iris-setosa</td>\n",
              "    </tr>\n",
              "    <tr>\n",
              "      <th>1</th>\n",
              "      <td>2</td>\n",
              "      <td>4.9</td>\n",
              "      <td>3.0</td>\n",
              "      <td>1.4</td>\n",
              "      <td>0.2</td>\n",
              "      <td>Iris-setosa</td>\n",
              "    </tr>\n",
              "    <tr>\n",
              "      <th>2</th>\n",
              "      <td>3</td>\n",
              "      <td>4.7</td>\n",
              "      <td>3.2</td>\n",
              "      <td>1.3</td>\n",
              "      <td>0.2</td>\n",
              "      <td>Iris-setosa</td>\n",
              "    </tr>\n",
              "    <tr>\n",
              "      <th>3</th>\n",
              "      <td>4</td>\n",
              "      <td>4.6</td>\n",
              "      <td>3.1</td>\n",
              "      <td>1.5</td>\n",
              "      <td>0.2</td>\n",
              "      <td>Iris-setosa</td>\n",
              "    </tr>\n",
              "    <tr>\n",
              "      <th>4</th>\n",
              "      <td>5</td>\n",
              "      <td>5.0</td>\n",
              "      <td>3.6</td>\n",
              "      <td>1.4</td>\n",
              "      <td>0.2</td>\n",
              "      <td>Iris-setosa</td>\n",
              "    </tr>\n",
              "  </tbody>\n",
              "</table>\n",
              "</div>"
            ],
            "text/plain": [
              "   Id  SepalLengthCm  SepalWidthCm  PetalLengthCm  PetalWidthCm      Species\n",
              "0   1            5.1           3.5            1.4           0.2  Iris-setosa\n",
              "1   2            4.9           3.0            1.4           0.2  Iris-setosa\n",
              "2   3            4.7           3.2            1.3           0.2  Iris-setosa\n",
              "3   4            4.6           3.1            1.5           0.2  Iris-setosa\n",
              "4   5            5.0           3.6            1.4           0.2  Iris-setosa"
            ]
          },
          "metadata": {},
          "execution_count": 94
        }
      ]
    },
    {
      "cell_type": "code",
      "metadata": {
        "colab": {
          "base_uri": "https://localhost:8080/",
          "height": 607
        },
        "id": "Pp8xryy1DA2s",
        "outputId": "a8fe7b2e-b690-4bb5-b508-daf23f054eaa"
      },
      "source": [
        "# Try to modify some values to NAN values in order to explain some cleaning steps.\n",
        "for row in df.index:\n",
        "  if df['SepalLengthCm'][row] == 4.9:\n",
        "    df['SepalLengthCm'][row] = np.nan\n",
        "\n",
        "  if df['SepalWidthCm'][row] == 3.0:\n",
        "    df['SepalWidthCm'][row] = np.nan\n",
        "\n",
        "  if df['PetalLengthCm'][row] == 1.4:\n",
        "    df.loc[150] = [1, \t5.1, \t3.5, \t1.4, \t0.2, \t'Iris-setosa']  # adding a row\n",
        "    df.loc[151] = [1, \t5.1, \t3.5, \t1.4, \t0.2, \t'Iris-setosa']  # adding a row\n",
        "    df.loc[152] = [1, \t5.1, \t3.5, \t1.4, \t0.2, \t'Iris-setosa']  # adding a row\n",
        "    df.loc[153] = [1, \t5.1, \t3.5, \t1.4, \t5.9, \t'Iris-setosa']  # adding a row\n",
        "    df.loc[154] = [1, \t5.1, \t3.5, \t1.4, \t6.4, \t'Iris-setosa']  # adding a row\n",
        "    df.loc[155] = [1, \t5.1, \t3.5, \t1.4, \t0.001, \t'Iris-setosa']  # adding a row\n",
        "    \n",
        "df"
      ],
      "execution_count": 95,
      "outputs": [
        {
          "output_type": "stream",
          "name": "stderr",
          "text": [
            "/usr/local/lib/python3.7/dist-packages/ipykernel_launcher.py:4: SettingWithCopyWarning: \n",
            "A value is trying to be set on a copy of a slice from a DataFrame\n",
            "\n",
            "See the caveats in the documentation: https://pandas.pydata.org/pandas-docs/stable/user_guide/indexing.html#returning-a-view-versus-a-copy\n",
            "  after removing the cwd from sys.path.\n",
            "/usr/local/lib/python3.7/dist-packages/ipykernel_launcher.py:7: SettingWithCopyWarning: \n",
            "A value is trying to be set on a copy of a slice from a DataFrame\n",
            "\n",
            "See the caveats in the documentation: https://pandas.pydata.org/pandas-docs/stable/user_guide/indexing.html#returning-a-view-versus-a-copy\n",
            "  import sys\n"
          ]
        },
        {
          "output_type": "execute_result",
          "data": {
            "text/html": [
              "<div>\n",
              "<style scoped>\n",
              "    .dataframe tbody tr th:only-of-type {\n",
              "        vertical-align: middle;\n",
              "    }\n",
              "\n",
              "    .dataframe tbody tr th {\n",
              "        vertical-align: top;\n",
              "    }\n",
              "\n",
              "    .dataframe thead th {\n",
              "        text-align: right;\n",
              "    }\n",
              "</style>\n",
              "<table border=\"1\" class=\"dataframe\">\n",
              "  <thead>\n",
              "    <tr style=\"text-align: right;\">\n",
              "      <th></th>\n",
              "      <th>Id</th>\n",
              "      <th>SepalLengthCm</th>\n",
              "      <th>SepalWidthCm</th>\n",
              "      <th>PetalLengthCm</th>\n",
              "      <th>PetalWidthCm</th>\n",
              "      <th>Species</th>\n",
              "    </tr>\n",
              "  </thead>\n",
              "  <tbody>\n",
              "    <tr>\n",
              "      <th>0</th>\n",
              "      <td>1</td>\n",
              "      <td>5.1</td>\n",
              "      <td>3.5</td>\n",
              "      <td>1.4</td>\n",
              "      <td>0.200</td>\n",
              "      <td>Iris-setosa</td>\n",
              "    </tr>\n",
              "    <tr>\n",
              "      <th>1</th>\n",
              "      <td>2</td>\n",
              "      <td>NaN</td>\n",
              "      <td>NaN</td>\n",
              "      <td>1.4</td>\n",
              "      <td>0.200</td>\n",
              "      <td>Iris-setosa</td>\n",
              "    </tr>\n",
              "    <tr>\n",
              "      <th>2</th>\n",
              "      <td>3</td>\n",
              "      <td>4.7</td>\n",
              "      <td>3.2</td>\n",
              "      <td>1.3</td>\n",
              "      <td>0.200</td>\n",
              "      <td>Iris-setosa</td>\n",
              "    </tr>\n",
              "    <tr>\n",
              "      <th>3</th>\n",
              "      <td>4</td>\n",
              "      <td>4.6</td>\n",
              "      <td>3.1</td>\n",
              "      <td>1.5</td>\n",
              "      <td>0.200</td>\n",
              "      <td>Iris-setosa</td>\n",
              "    </tr>\n",
              "    <tr>\n",
              "      <th>4</th>\n",
              "      <td>5</td>\n",
              "      <td>5.0</td>\n",
              "      <td>3.6</td>\n",
              "      <td>1.4</td>\n",
              "      <td>0.200</td>\n",
              "      <td>Iris-setosa</td>\n",
              "    </tr>\n",
              "    <tr>\n",
              "      <th>...</th>\n",
              "      <td>...</td>\n",
              "      <td>...</td>\n",
              "      <td>...</td>\n",
              "      <td>...</td>\n",
              "      <td>...</td>\n",
              "      <td>...</td>\n",
              "    </tr>\n",
              "    <tr>\n",
              "      <th>151</th>\n",
              "      <td>1</td>\n",
              "      <td>5.1</td>\n",
              "      <td>3.5</td>\n",
              "      <td>1.4</td>\n",
              "      <td>0.200</td>\n",
              "      <td>Iris-setosa</td>\n",
              "    </tr>\n",
              "    <tr>\n",
              "      <th>152</th>\n",
              "      <td>1</td>\n",
              "      <td>5.1</td>\n",
              "      <td>3.5</td>\n",
              "      <td>1.4</td>\n",
              "      <td>0.200</td>\n",
              "      <td>Iris-setosa</td>\n",
              "    </tr>\n",
              "    <tr>\n",
              "      <th>153</th>\n",
              "      <td>1</td>\n",
              "      <td>5.1</td>\n",
              "      <td>3.5</td>\n",
              "      <td>1.4</td>\n",
              "      <td>5.900</td>\n",
              "      <td>Iris-setosa</td>\n",
              "    </tr>\n",
              "    <tr>\n",
              "      <th>154</th>\n",
              "      <td>1</td>\n",
              "      <td>5.1</td>\n",
              "      <td>3.5</td>\n",
              "      <td>1.4</td>\n",
              "      <td>6.400</td>\n",
              "      <td>Iris-setosa</td>\n",
              "    </tr>\n",
              "    <tr>\n",
              "      <th>155</th>\n",
              "      <td>1</td>\n",
              "      <td>5.1</td>\n",
              "      <td>3.5</td>\n",
              "      <td>1.4</td>\n",
              "      <td>0.001</td>\n",
              "      <td>Iris-setosa</td>\n",
              "    </tr>\n",
              "  </tbody>\n",
              "</table>\n",
              "<p>156 rows × 6 columns</p>\n",
              "</div>"
            ],
            "text/plain": [
              "     Id  SepalLengthCm  SepalWidthCm  PetalLengthCm  PetalWidthCm      Species\n",
              "0     1            5.1           3.5            1.4         0.200  Iris-setosa\n",
              "1     2            NaN           NaN            1.4         0.200  Iris-setosa\n",
              "2     3            4.7           3.2            1.3         0.200  Iris-setosa\n",
              "3     4            4.6           3.1            1.5         0.200  Iris-setosa\n",
              "4     5            5.0           3.6            1.4         0.200  Iris-setosa\n",
              "..   ..            ...           ...            ...           ...          ...\n",
              "151   1            5.1           3.5            1.4         0.200  Iris-setosa\n",
              "152   1            5.1           3.5            1.4         0.200  Iris-setosa\n",
              "153   1            5.1           3.5            1.4         5.900  Iris-setosa\n",
              "154   1            5.1           3.5            1.4         6.400  Iris-setosa\n",
              "155   1            5.1           3.5            1.4         0.001  Iris-setosa\n",
              "\n",
              "[156 rows x 6 columns]"
            ]
          },
          "metadata": {},
          "execution_count": 95
        }
      ]
    },
    {
      "cell_type": "markdown",
      "metadata": {
        "id": "2290fPkjSl2M"
      },
      "source": [
        "# Data Cleaning Steps:\n",
        "\n",
        "## 1. Standardisation"
      ]
    },
    {
      "cell_type": "markdown",
      "metadata": {
        "id": "hyHekqVyStZz"
      },
      "source": [
        "### 1.1 Rename the columns"
      ]
    },
    {
      "cell_type": "code",
      "metadata": {
        "colab": {
          "base_uri": "https://localhost:8080/",
          "height": 206
        },
        "id": "Km00Hc6hS1Ua",
        "outputId": "662b0ca9-8f4c-4139-f210-a74b6d438867"
      },
      "source": [
        "# One of the Standardisation is to change the columns names if needed.\n",
        "df.columns = ['Id', 'Sepal_Length_cm', 'Sepal_Width_cm', 'Petal_Length_cm', 'Petal_Width_cm', 'Species']\n",
        "df.head()"
      ],
      "execution_count": 96,
      "outputs": [
        {
          "output_type": "execute_result",
          "data": {
            "text/html": [
              "<div>\n",
              "<style scoped>\n",
              "    .dataframe tbody tr th:only-of-type {\n",
              "        vertical-align: middle;\n",
              "    }\n",
              "\n",
              "    .dataframe tbody tr th {\n",
              "        vertical-align: top;\n",
              "    }\n",
              "\n",
              "    .dataframe thead th {\n",
              "        text-align: right;\n",
              "    }\n",
              "</style>\n",
              "<table border=\"1\" class=\"dataframe\">\n",
              "  <thead>\n",
              "    <tr style=\"text-align: right;\">\n",
              "      <th></th>\n",
              "      <th>Id</th>\n",
              "      <th>Sepal_Length_cm</th>\n",
              "      <th>Sepal_Width_cm</th>\n",
              "      <th>Petal_Length_cm</th>\n",
              "      <th>Petal_Width_cm</th>\n",
              "      <th>Species</th>\n",
              "    </tr>\n",
              "  </thead>\n",
              "  <tbody>\n",
              "    <tr>\n",
              "      <th>0</th>\n",
              "      <td>1</td>\n",
              "      <td>5.1</td>\n",
              "      <td>3.5</td>\n",
              "      <td>1.4</td>\n",
              "      <td>0.2</td>\n",
              "      <td>Iris-setosa</td>\n",
              "    </tr>\n",
              "    <tr>\n",
              "      <th>1</th>\n",
              "      <td>2</td>\n",
              "      <td>NaN</td>\n",
              "      <td>NaN</td>\n",
              "      <td>1.4</td>\n",
              "      <td>0.2</td>\n",
              "      <td>Iris-setosa</td>\n",
              "    </tr>\n",
              "    <tr>\n",
              "      <th>2</th>\n",
              "      <td>3</td>\n",
              "      <td>4.7</td>\n",
              "      <td>3.2</td>\n",
              "      <td>1.3</td>\n",
              "      <td>0.2</td>\n",
              "      <td>Iris-setosa</td>\n",
              "    </tr>\n",
              "    <tr>\n",
              "      <th>3</th>\n",
              "      <td>4</td>\n",
              "      <td>4.6</td>\n",
              "      <td>3.1</td>\n",
              "      <td>1.5</td>\n",
              "      <td>0.2</td>\n",
              "      <td>Iris-setosa</td>\n",
              "    </tr>\n",
              "    <tr>\n",
              "      <th>4</th>\n",
              "      <td>5</td>\n",
              "      <td>5.0</td>\n",
              "      <td>3.6</td>\n",
              "      <td>1.4</td>\n",
              "      <td>0.2</td>\n",
              "      <td>Iris-setosa</td>\n",
              "    </tr>\n",
              "  </tbody>\n",
              "</table>\n",
              "</div>"
            ],
            "text/plain": [
              "   Id  Sepal_Length_cm  ...  Petal_Width_cm      Species\n",
              "0   1              5.1  ...             0.2  Iris-setosa\n",
              "1   2              NaN  ...             0.2  Iris-setosa\n",
              "2   3              4.7  ...             0.2  Iris-setosa\n",
              "3   4              4.6  ...             0.2  Iris-setosa\n",
              "4   5              5.0  ...             0.2  Iris-setosa\n",
              "\n",
              "[5 rows x 6 columns]"
            ]
          },
          "metadata": {},
          "execution_count": 96
        }
      ]
    },
    {
      "cell_type": "markdown",
      "metadata": {
        "id": "QJpsPYc8UDOP"
      },
      "source": [
        "### 1.2 Chaneg the measurment of the columns (Sepal_Length, Sepal_Width, \tPetal_Length, Petal_Width) from cm to inches\n",
        "\n"
      ]
    },
    {
      "cell_type": "code",
      "metadata": {
        "colab": {
          "base_uri": "https://localhost:8080/",
          "height": 206
        },
        "id": "_OXwfM88UR-7",
        "outputId": "fda68893-0464-4a4f-cde7-f6413b5e3124"
      },
      "source": [
        "# we change the name of related columns from cm to inches using repalce method for pandas dataframe\n",
        "df.columns = df.columns.str.replace('cm', 'inches')\n",
        "df.head()"
      ],
      "execution_count": 97,
      "outputs": [
        {
          "output_type": "execute_result",
          "data": {
            "text/html": [
              "<div>\n",
              "<style scoped>\n",
              "    .dataframe tbody tr th:only-of-type {\n",
              "        vertical-align: middle;\n",
              "    }\n",
              "\n",
              "    .dataframe tbody tr th {\n",
              "        vertical-align: top;\n",
              "    }\n",
              "\n",
              "    .dataframe thead th {\n",
              "        text-align: right;\n",
              "    }\n",
              "</style>\n",
              "<table border=\"1\" class=\"dataframe\">\n",
              "  <thead>\n",
              "    <tr style=\"text-align: right;\">\n",
              "      <th></th>\n",
              "      <th>Id</th>\n",
              "      <th>Sepal_Length_inches</th>\n",
              "      <th>Sepal_Width_inches</th>\n",
              "      <th>Petal_Length_inches</th>\n",
              "      <th>Petal_Width_inches</th>\n",
              "      <th>Species</th>\n",
              "    </tr>\n",
              "  </thead>\n",
              "  <tbody>\n",
              "    <tr>\n",
              "      <th>0</th>\n",
              "      <td>1</td>\n",
              "      <td>5.1</td>\n",
              "      <td>3.5</td>\n",
              "      <td>1.4</td>\n",
              "      <td>0.2</td>\n",
              "      <td>Iris-setosa</td>\n",
              "    </tr>\n",
              "    <tr>\n",
              "      <th>1</th>\n",
              "      <td>2</td>\n",
              "      <td>NaN</td>\n",
              "      <td>NaN</td>\n",
              "      <td>1.4</td>\n",
              "      <td>0.2</td>\n",
              "      <td>Iris-setosa</td>\n",
              "    </tr>\n",
              "    <tr>\n",
              "      <th>2</th>\n",
              "      <td>3</td>\n",
              "      <td>4.7</td>\n",
              "      <td>3.2</td>\n",
              "      <td>1.3</td>\n",
              "      <td>0.2</td>\n",
              "      <td>Iris-setosa</td>\n",
              "    </tr>\n",
              "    <tr>\n",
              "      <th>3</th>\n",
              "      <td>4</td>\n",
              "      <td>4.6</td>\n",
              "      <td>3.1</td>\n",
              "      <td>1.5</td>\n",
              "      <td>0.2</td>\n",
              "      <td>Iris-setosa</td>\n",
              "    </tr>\n",
              "    <tr>\n",
              "      <th>4</th>\n",
              "      <td>5</td>\n",
              "      <td>5.0</td>\n",
              "      <td>3.6</td>\n",
              "      <td>1.4</td>\n",
              "      <td>0.2</td>\n",
              "      <td>Iris-setosa</td>\n",
              "    </tr>\n",
              "  </tbody>\n",
              "</table>\n",
              "</div>"
            ],
            "text/plain": [
              "   Id  Sepal_Length_inches  ...  Petal_Width_inches      Species\n",
              "0   1                  5.1  ...                 0.2  Iris-setosa\n",
              "1   2                  NaN  ...                 0.2  Iris-setosa\n",
              "2   3                  4.7  ...                 0.2  Iris-setosa\n",
              "3   4                  4.6  ...                 0.2  Iris-setosa\n",
              "4   5                  5.0  ...                 0.2  Iris-setosa\n",
              "\n",
              "[5 rows x 6 columns]"
            ]
          },
          "metadata": {},
          "execution_count": 97
        }
      ]
    },
    {
      "cell_type": "code",
      "metadata": {
        "colab": {
          "base_uri": "https://localhost:8080/",
          "height": 206
        },
        "id": "19K--L-ngYUM",
        "outputId": "2ee6e3a0-2459-494e-b1c1-cfc696104fc6"
      },
      "source": [
        "# to convert the value from cm to inches, you should multiply it by 0.3937\n",
        "df['Sepal_Length_inches'] = df['Sepal_Length_inches'] *  0.3937\n",
        "df['Sepal_Width_inches'] = df['Sepal_Width_inches'] *  0.3937\n",
        "df['Petal_Length_inches'] = df['Petal_Length_inches'] *  0.3937\n",
        "df['Petal_Width_inches'] = df['Petal_Width_inches'] *  0.3937\n",
        "df.head()"
      ],
      "execution_count": 98,
      "outputs": [
        {
          "output_type": "execute_result",
          "data": {
            "text/html": [
              "<div>\n",
              "<style scoped>\n",
              "    .dataframe tbody tr th:only-of-type {\n",
              "        vertical-align: middle;\n",
              "    }\n",
              "\n",
              "    .dataframe tbody tr th {\n",
              "        vertical-align: top;\n",
              "    }\n",
              "\n",
              "    .dataframe thead th {\n",
              "        text-align: right;\n",
              "    }\n",
              "</style>\n",
              "<table border=\"1\" class=\"dataframe\">\n",
              "  <thead>\n",
              "    <tr style=\"text-align: right;\">\n",
              "      <th></th>\n",
              "      <th>Id</th>\n",
              "      <th>Sepal_Length_inches</th>\n",
              "      <th>Sepal_Width_inches</th>\n",
              "      <th>Petal_Length_inches</th>\n",
              "      <th>Petal_Width_inches</th>\n",
              "      <th>Species</th>\n",
              "    </tr>\n",
              "  </thead>\n",
              "  <tbody>\n",
              "    <tr>\n",
              "      <th>0</th>\n",
              "      <td>1</td>\n",
              "      <td>2.00787</td>\n",
              "      <td>1.37795</td>\n",
              "      <td>0.55118</td>\n",
              "      <td>0.07874</td>\n",
              "      <td>Iris-setosa</td>\n",
              "    </tr>\n",
              "    <tr>\n",
              "      <th>1</th>\n",
              "      <td>2</td>\n",
              "      <td>NaN</td>\n",
              "      <td>NaN</td>\n",
              "      <td>0.55118</td>\n",
              "      <td>0.07874</td>\n",
              "      <td>Iris-setosa</td>\n",
              "    </tr>\n",
              "    <tr>\n",
              "      <th>2</th>\n",
              "      <td>3</td>\n",
              "      <td>1.85039</td>\n",
              "      <td>1.25984</td>\n",
              "      <td>0.51181</td>\n",
              "      <td>0.07874</td>\n",
              "      <td>Iris-setosa</td>\n",
              "    </tr>\n",
              "    <tr>\n",
              "      <th>3</th>\n",
              "      <td>4</td>\n",
              "      <td>1.81102</td>\n",
              "      <td>1.22047</td>\n",
              "      <td>0.59055</td>\n",
              "      <td>0.07874</td>\n",
              "      <td>Iris-setosa</td>\n",
              "    </tr>\n",
              "    <tr>\n",
              "      <th>4</th>\n",
              "      <td>5</td>\n",
              "      <td>1.96850</td>\n",
              "      <td>1.41732</td>\n",
              "      <td>0.55118</td>\n",
              "      <td>0.07874</td>\n",
              "      <td>Iris-setosa</td>\n",
              "    </tr>\n",
              "  </tbody>\n",
              "</table>\n",
              "</div>"
            ],
            "text/plain": [
              "   Id  Sepal_Length_inches  ...  Petal_Width_inches      Species\n",
              "0   1              2.00787  ...             0.07874  Iris-setosa\n",
              "1   2                  NaN  ...             0.07874  Iris-setosa\n",
              "2   3              1.85039  ...             0.07874  Iris-setosa\n",
              "3   4              1.81102  ...             0.07874  Iris-setosa\n",
              "4   5              1.96850  ...             0.07874  Iris-setosa\n",
              "\n",
              "[5 rows x 6 columns]"
            ]
          },
          "metadata": {},
          "execution_count": 98
        }
      ]
    },
    {
      "cell_type": "markdown",
      "metadata": {
        "id": "26qN3xjgifxt"
      },
      "source": [
        "### 1.3 Performing rounding of all float columns \n",
        "\n"
      ]
    },
    {
      "cell_type": "code",
      "metadata": {
        "colab": {
          "base_uri": "https://localhost:8080/",
          "height": 206
        },
        "id": "nfMVoVumhwOO",
        "outputId": "cfd92c9d-55b3-4568-8f71-a1c9956910b7"
      },
      "source": [
        "df['Sepal_Length_inches'] = df['Sepal_Length_inches'].round(2)\n",
        "df['Sepal_Width_inches'] = df['Sepal_Width_inches'].round(2)\n",
        "df['Petal_Length_inches'] = df['Petal_Length_inches'].round(2)\n",
        "df['Petal_Width_inches'] = df['Petal_Width_inches'].round(2)\n",
        "df.head()"
      ],
      "execution_count": 99,
      "outputs": [
        {
          "output_type": "execute_result",
          "data": {
            "text/html": [
              "<div>\n",
              "<style scoped>\n",
              "    .dataframe tbody tr th:only-of-type {\n",
              "        vertical-align: middle;\n",
              "    }\n",
              "\n",
              "    .dataframe tbody tr th {\n",
              "        vertical-align: top;\n",
              "    }\n",
              "\n",
              "    .dataframe thead th {\n",
              "        text-align: right;\n",
              "    }\n",
              "</style>\n",
              "<table border=\"1\" class=\"dataframe\">\n",
              "  <thead>\n",
              "    <tr style=\"text-align: right;\">\n",
              "      <th></th>\n",
              "      <th>Id</th>\n",
              "      <th>Sepal_Length_inches</th>\n",
              "      <th>Sepal_Width_inches</th>\n",
              "      <th>Petal_Length_inches</th>\n",
              "      <th>Petal_Width_inches</th>\n",
              "      <th>Species</th>\n",
              "    </tr>\n",
              "  </thead>\n",
              "  <tbody>\n",
              "    <tr>\n",
              "      <th>0</th>\n",
              "      <td>1</td>\n",
              "      <td>2.01</td>\n",
              "      <td>1.38</td>\n",
              "      <td>0.55</td>\n",
              "      <td>0.08</td>\n",
              "      <td>Iris-setosa</td>\n",
              "    </tr>\n",
              "    <tr>\n",
              "      <th>1</th>\n",
              "      <td>2</td>\n",
              "      <td>NaN</td>\n",
              "      <td>NaN</td>\n",
              "      <td>0.55</td>\n",
              "      <td>0.08</td>\n",
              "      <td>Iris-setosa</td>\n",
              "    </tr>\n",
              "    <tr>\n",
              "      <th>2</th>\n",
              "      <td>3</td>\n",
              "      <td>1.85</td>\n",
              "      <td>1.26</td>\n",
              "      <td>0.51</td>\n",
              "      <td>0.08</td>\n",
              "      <td>Iris-setosa</td>\n",
              "    </tr>\n",
              "    <tr>\n",
              "      <th>3</th>\n",
              "      <td>4</td>\n",
              "      <td>1.81</td>\n",
              "      <td>1.22</td>\n",
              "      <td>0.59</td>\n",
              "      <td>0.08</td>\n",
              "      <td>Iris-setosa</td>\n",
              "    </tr>\n",
              "    <tr>\n",
              "      <th>4</th>\n",
              "      <td>5</td>\n",
              "      <td>1.97</td>\n",
              "      <td>1.42</td>\n",
              "      <td>0.55</td>\n",
              "      <td>0.08</td>\n",
              "      <td>Iris-setosa</td>\n",
              "    </tr>\n",
              "  </tbody>\n",
              "</table>\n",
              "</div>"
            ],
            "text/plain": [
              "   Id  Sepal_Length_inches  ...  Petal_Width_inches      Species\n",
              "0   1                 2.01  ...                0.08  Iris-setosa\n",
              "1   2                  NaN  ...                0.08  Iris-setosa\n",
              "2   3                 1.85  ...                0.08  Iris-setosa\n",
              "3   4                 1.81  ...                0.08  Iris-setosa\n",
              "4   5                 1.97  ...                0.08  Iris-setosa\n",
              "\n",
              "[5 rows x 6 columns]"
            ]
          },
          "metadata": {},
          "execution_count": 99
        }
      ]
    },
    {
      "cell_type": "markdown",
      "metadata": {
        "id": "1rkpb4yAWI0e"
      },
      "source": [
        "### 1.4 Determining the datatypes"
      ]
    },
    {
      "cell_type": "code",
      "metadata": {
        "colab": {
          "base_uri": "https://localhost:8080/"
        },
        "id": "UmpdC-I0WMQM",
        "outputId": "205cc558-686f-4014-d564-ffcedf88f76b"
      },
      "source": [
        "df.dtypes"
      ],
      "execution_count": 100,
      "outputs": [
        {
          "output_type": "execute_result",
          "data": {
            "text/plain": [
              "Id                       int64\n",
              "Sepal_Length_inches    float64\n",
              "Sepal_Width_inches     float64\n",
              "Petal_Length_inches    float64\n",
              "Petal_Width_inches     float64\n",
              "Species                 object\n",
              "dtype: object"
            ]
          },
          "metadata": {},
          "execution_count": 100
        }
      ]
    },
    {
      "cell_type": "markdown",
      "metadata": {
        "id": "98MRBcBXjhEp"
      },
      "source": [
        "## 2. Syntax Errors"
      ]
    },
    {
      "cell_type": "code",
      "metadata": {
        "colab": {
          "base_uri": "https://localhost:8080/",
          "height": 206
        },
        "id": "4TEuZvd-kD0T",
        "outputId": "be8fc2bb-060f-4717-8833-7341e90a60d8"
      },
      "source": [
        "df.head()"
      ],
      "execution_count": 101,
      "outputs": [
        {
          "output_type": "execute_result",
          "data": {
            "text/html": [
              "<div>\n",
              "<style scoped>\n",
              "    .dataframe tbody tr th:only-of-type {\n",
              "        vertical-align: middle;\n",
              "    }\n",
              "\n",
              "    .dataframe tbody tr th {\n",
              "        vertical-align: top;\n",
              "    }\n",
              "\n",
              "    .dataframe thead th {\n",
              "        text-align: right;\n",
              "    }\n",
              "</style>\n",
              "<table border=\"1\" class=\"dataframe\">\n",
              "  <thead>\n",
              "    <tr style=\"text-align: right;\">\n",
              "      <th></th>\n",
              "      <th>Id</th>\n",
              "      <th>Sepal_Length_inches</th>\n",
              "      <th>Sepal_Width_inches</th>\n",
              "      <th>Petal_Length_inches</th>\n",
              "      <th>Petal_Width_inches</th>\n",
              "      <th>Species</th>\n",
              "    </tr>\n",
              "  </thead>\n",
              "  <tbody>\n",
              "    <tr>\n",
              "      <th>0</th>\n",
              "      <td>1</td>\n",
              "      <td>2.01</td>\n",
              "      <td>1.38</td>\n",
              "      <td>0.55</td>\n",
              "      <td>0.08</td>\n",
              "      <td>Iris-setosa</td>\n",
              "    </tr>\n",
              "    <tr>\n",
              "      <th>1</th>\n",
              "      <td>2</td>\n",
              "      <td>NaN</td>\n",
              "      <td>NaN</td>\n",
              "      <td>0.55</td>\n",
              "      <td>0.08</td>\n",
              "      <td>Iris-setosa</td>\n",
              "    </tr>\n",
              "    <tr>\n",
              "      <th>2</th>\n",
              "      <td>3</td>\n",
              "      <td>1.85</td>\n",
              "      <td>1.26</td>\n",
              "      <td>0.51</td>\n",
              "      <td>0.08</td>\n",
              "      <td>Iris-setosa</td>\n",
              "    </tr>\n",
              "    <tr>\n",
              "      <th>3</th>\n",
              "      <td>4</td>\n",
              "      <td>1.81</td>\n",
              "      <td>1.22</td>\n",
              "      <td>0.59</td>\n",
              "      <td>0.08</td>\n",
              "      <td>Iris-setosa</td>\n",
              "    </tr>\n",
              "    <tr>\n",
              "      <th>4</th>\n",
              "      <td>5</td>\n",
              "      <td>1.97</td>\n",
              "      <td>1.42</td>\n",
              "      <td>0.55</td>\n",
              "      <td>0.08</td>\n",
              "      <td>Iris-setosa</td>\n",
              "    </tr>\n",
              "  </tbody>\n",
              "</table>\n",
              "</div>"
            ],
            "text/plain": [
              "   Id  Sepal_Length_inches  ...  Petal_Width_inches      Species\n",
              "0   1                 2.01  ...                0.08  Iris-setosa\n",
              "1   2                  NaN  ...                0.08  Iris-setosa\n",
              "2   3                 1.85  ...                0.08  Iris-setosa\n",
              "3   4                 1.81  ...                0.08  Iris-setosa\n",
              "4   5                 1.97  ...                0.08  Iris-setosa\n",
              "\n",
              "[5 rows x 6 columns]"
            ]
          },
          "metadata": {},
          "execution_count": 101
        }
      ]
    },
    {
      "cell_type": "code",
      "metadata": {
        "colab": {
          "base_uri": "https://localhost:8080/"
        },
        "id": "G0UCCu3xKzMc",
        "outputId": "18088ebb-2503-49ad-acb0-73246c65b70a"
      },
      "source": [
        "list(df['Species'].unique())"
      ],
      "execution_count": 102,
      "outputs": [
        {
          "output_type": "execute_result",
          "data": {
            "text/plain": [
              "['Iris-setosa', 'Iris-versicolor', 'Iris-virginica']"
            ]
          },
          "metadata": {},
          "execution_count": 102
        }
      ]
    },
    {
      "cell_type": "code",
      "metadata": {
        "colab": {
          "base_uri": "https://localhost:8080/",
          "height": 206
        },
        "id": "59xQZ5g_jmYC",
        "outputId": "1e1055bf-e62e-4f17-ec9a-67ca974c737e"
      },
      "source": [
        "# Remove 'Iris-' from the begining of each input in  'Species' column.\n",
        "df['Species'] = df['Species'].str.replace('Iris-', '')\n",
        "df.head()"
      ],
      "execution_count": 103,
      "outputs": [
        {
          "output_type": "execute_result",
          "data": {
            "text/html": [
              "<div>\n",
              "<style scoped>\n",
              "    .dataframe tbody tr th:only-of-type {\n",
              "        vertical-align: middle;\n",
              "    }\n",
              "\n",
              "    .dataframe tbody tr th {\n",
              "        vertical-align: top;\n",
              "    }\n",
              "\n",
              "    .dataframe thead th {\n",
              "        text-align: right;\n",
              "    }\n",
              "</style>\n",
              "<table border=\"1\" class=\"dataframe\">\n",
              "  <thead>\n",
              "    <tr style=\"text-align: right;\">\n",
              "      <th></th>\n",
              "      <th>Id</th>\n",
              "      <th>Sepal_Length_inches</th>\n",
              "      <th>Sepal_Width_inches</th>\n",
              "      <th>Petal_Length_inches</th>\n",
              "      <th>Petal_Width_inches</th>\n",
              "      <th>Species</th>\n",
              "    </tr>\n",
              "  </thead>\n",
              "  <tbody>\n",
              "    <tr>\n",
              "      <th>0</th>\n",
              "      <td>1</td>\n",
              "      <td>2.01</td>\n",
              "      <td>1.38</td>\n",
              "      <td>0.55</td>\n",
              "      <td>0.08</td>\n",
              "      <td>setosa</td>\n",
              "    </tr>\n",
              "    <tr>\n",
              "      <th>1</th>\n",
              "      <td>2</td>\n",
              "      <td>NaN</td>\n",
              "      <td>NaN</td>\n",
              "      <td>0.55</td>\n",
              "      <td>0.08</td>\n",
              "      <td>setosa</td>\n",
              "    </tr>\n",
              "    <tr>\n",
              "      <th>2</th>\n",
              "      <td>3</td>\n",
              "      <td>1.85</td>\n",
              "      <td>1.26</td>\n",
              "      <td>0.51</td>\n",
              "      <td>0.08</td>\n",
              "      <td>setosa</td>\n",
              "    </tr>\n",
              "    <tr>\n",
              "      <th>3</th>\n",
              "      <td>4</td>\n",
              "      <td>1.81</td>\n",
              "      <td>1.22</td>\n",
              "      <td>0.59</td>\n",
              "      <td>0.08</td>\n",
              "      <td>setosa</td>\n",
              "    </tr>\n",
              "    <tr>\n",
              "      <th>4</th>\n",
              "      <td>5</td>\n",
              "      <td>1.97</td>\n",
              "      <td>1.42</td>\n",
              "      <td>0.55</td>\n",
              "      <td>0.08</td>\n",
              "      <td>setosa</td>\n",
              "    </tr>\n",
              "  </tbody>\n",
              "</table>\n",
              "</div>"
            ],
            "text/plain": [
              "   Id  Sepal_Length_inches  ...  Petal_Width_inches  Species\n",
              "0   1                 2.01  ...                0.08   setosa\n",
              "1   2                  NaN  ...                0.08   setosa\n",
              "2   3                 1.85  ...                0.08   setosa\n",
              "3   4                 1.81  ...                0.08   setosa\n",
              "4   5                 1.97  ...                0.08   setosa\n",
              "\n",
              "[5 rows x 6 columns]"
            ]
          },
          "metadata": {},
          "execution_count": 103
        }
      ]
    },
    {
      "cell_type": "code",
      "metadata": {
        "colab": {
          "base_uri": "https://localhost:8080/"
        },
        "id": "vUj9JO3fm3Gy",
        "outputId": "76203e44-12cc-42e9-97a3-747ebabaaa69"
      },
      "source": [
        "list(df['Species'].unique())"
      ],
      "execution_count": 104,
      "outputs": [
        {
          "output_type": "execute_result",
          "data": {
            "text/plain": [
              "['setosa', 'versicolor', 'virginica']"
            ]
          },
          "metadata": {},
          "execution_count": 104
        }
      ]
    },
    {
      "cell_type": "markdown",
      "metadata": {
        "id": "ldGeR6riuOZf"
      },
      "source": [
        "##3. Duplicates"
      ]
    },
    {
      "cell_type": "code",
      "metadata": {
        "colab": {
          "base_uri": "https://localhost:8080/",
          "height": 143
        },
        "id": "M2sgzZkNuUCu",
        "outputId": "01980c56-fbde-45d7-8484-0b854834c209"
      },
      "source": [
        "#check the duplicated rows\n",
        "df[df.duplicated()]"
      ],
      "execution_count": 105,
      "outputs": [
        {
          "output_type": "execute_result",
          "data": {
            "text/html": [
              "<div>\n",
              "<style scoped>\n",
              "    .dataframe tbody tr th:only-of-type {\n",
              "        vertical-align: middle;\n",
              "    }\n",
              "\n",
              "    .dataframe tbody tr th {\n",
              "        vertical-align: top;\n",
              "    }\n",
              "\n",
              "    .dataframe thead th {\n",
              "        text-align: right;\n",
              "    }\n",
              "</style>\n",
              "<table border=\"1\" class=\"dataframe\">\n",
              "  <thead>\n",
              "    <tr style=\"text-align: right;\">\n",
              "      <th></th>\n",
              "      <th>Id</th>\n",
              "      <th>Sepal_Length_inches</th>\n",
              "      <th>Sepal_Width_inches</th>\n",
              "      <th>Petal_Length_inches</th>\n",
              "      <th>Petal_Width_inches</th>\n",
              "      <th>Species</th>\n",
              "    </tr>\n",
              "  </thead>\n",
              "  <tbody>\n",
              "    <tr>\n",
              "      <th>150</th>\n",
              "      <td>1</td>\n",
              "      <td>2.01</td>\n",
              "      <td>1.38</td>\n",
              "      <td>0.55</td>\n",
              "      <td>0.08</td>\n",
              "      <td>setosa</td>\n",
              "    </tr>\n",
              "    <tr>\n",
              "      <th>151</th>\n",
              "      <td>1</td>\n",
              "      <td>2.01</td>\n",
              "      <td>1.38</td>\n",
              "      <td>0.55</td>\n",
              "      <td>0.08</td>\n",
              "      <td>setosa</td>\n",
              "    </tr>\n",
              "    <tr>\n",
              "      <th>152</th>\n",
              "      <td>1</td>\n",
              "      <td>2.01</td>\n",
              "      <td>1.38</td>\n",
              "      <td>0.55</td>\n",
              "      <td>0.08</td>\n",
              "      <td>setosa</td>\n",
              "    </tr>\n",
              "  </tbody>\n",
              "</table>\n",
              "</div>"
            ],
            "text/plain": [
              "     Id  Sepal_Length_inches  ...  Petal_Width_inches  Species\n",
              "150   1                 2.01  ...                0.08   setosa\n",
              "151   1                 2.01  ...                0.08   setosa\n",
              "152   1                 2.01  ...                0.08   setosa\n",
              "\n",
              "[3 rows x 6 columns]"
            ]
          },
          "metadata": {},
          "execution_count": 105
        }
      ]
    },
    {
      "cell_type": "code",
      "metadata": {
        "colab": {
          "base_uri": "https://localhost:8080/"
        },
        "id": "kAxkcYXjumlZ",
        "outputId": "cc298de2-42dd-4a4f-9c8b-578560f4ba23"
      },
      "source": [
        "# the number of duplicates rows\n",
        "sum(df.duplicated())  "
      ],
      "execution_count": 106,
      "outputs": [
        {
          "output_type": "execute_result",
          "data": {
            "text/plain": [
              "3"
            ]
          },
          "metadata": {},
          "execution_count": 106
        }
      ]
    },
    {
      "cell_type": "code",
      "metadata": {
        "id": "IdFpuK9TuvwK"
      },
      "source": [
        "# drop duplicates if needed\n",
        "df = df.drop_duplicates()"
      ],
      "execution_count": 107,
      "outputs": []
    },
    {
      "cell_type": "code",
      "metadata": {
        "colab": {
          "base_uri": "https://localhost:8080/"
        },
        "id": "Sz3zu-TXUMwN",
        "outputId": "667d69b6-2db8-41cd-a86c-56e4e433a639"
      },
      "source": [
        "sum(df.duplicated())"
      ],
      "execution_count": 108,
      "outputs": [
        {
          "output_type": "execute_result",
          "data": {
            "text/plain": [
              "0"
            ]
          },
          "metadata": {},
          "execution_count": 108
        }
      ]
    },
    {
      "cell_type": "markdown",
      "metadata": {
        "id": "GZrrTA4E3A98"
      },
      "source": [
        "## 4. Missing Data"
      ]
    },
    {
      "cell_type": "code",
      "metadata": {
        "colab": {
          "base_uri": "https://localhost:8080/",
          "height": 424
        },
        "id": "RnJr9xIJ3XMb",
        "outputId": "8cd4d31e-859b-4d1e-83d4-90ee5ab49442"
      },
      "source": [
        "# We can check if there is any missing values in the entire dataframe as shown\n",
        "df.isnull()"
      ],
      "execution_count": 109,
      "outputs": [
        {
          "output_type": "execute_result",
          "data": {
            "text/html": [
              "<div>\n",
              "<style scoped>\n",
              "    .dataframe tbody tr th:only-of-type {\n",
              "        vertical-align: middle;\n",
              "    }\n",
              "\n",
              "    .dataframe tbody tr th {\n",
              "        vertical-align: top;\n",
              "    }\n",
              "\n",
              "    .dataframe thead th {\n",
              "        text-align: right;\n",
              "    }\n",
              "</style>\n",
              "<table border=\"1\" class=\"dataframe\">\n",
              "  <thead>\n",
              "    <tr style=\"text-align: right;\">\n",
              "      <th></th>\n",
              "      <th>Id</th>\n",
              "      <th>Sepal_Length_inches</th>\n",
              "      <th>Sepal_Width_inches</th>\n",
              "      <th>Petal_Length_inches</th>\n",
              "      <th>Petal_Width_inches</th>\n",
              "      <th>Species</th>\n",
              "    </tr>\n",
              "  </thead>\n",
              "  <tbody>\n",
              "    <tr>\n",
              "      <th>0</th>\n",
              "      <td>False</td>\n",
              "      <td>False</td>\n",
              "      <td>False</td>\n",
              "      <td>False</td>\n",
              "      <td>False</td>\n",
              "      <td>False</td>\n",
              "    </tr>\n",
              "    <tr>\n",
              "      <th>1</th>\n",
              "      <td>False</td>\n",
              "      <td>True</td>\n",
              "      <td>True</td>\n",
              "      <td>False</td>\n",
              "      <td>False</td>\n",
              "      <td>False</td>\n",
              "    </tr>\n",
              "    <tr>\n",
              "      <th>2</th>\n",
              "      <td>False</td>\n",
              "      <td>False</td>\n",
              "      <td>False</td>\n",
              "      <td>False</td>\n",
              "      <td>False</td>\n",
              "      <td>False</td>\n",
              "    </tr>\n",
              "    <tr>\n",
              "      <th>3</th>\n",
              "      <td>False</td>\n",
              "      <td>False</td>\n",
              "      <td>False</td>\n",
              "      <td>False</td>\n",
              "      <td>False</td>\n",
              "      <td>False</td>\n",
              "    </tr>\n",
              "    <tr>\n",
              "      <th>4</th>\n",
              "      <td>False</td>\n",
              "      <td>False</td>\n",
              "      <td>False</td>\n",
              "      <td>False</td>\n",
              "      <td>False</td>\n",
              "      <td>False</td>\n",
              "    </tr>\n",
              "    <tr>\n",
              "      <th>...</th>\n",
              "      <td>...</td>\n",
              "      <td>...</td>\n",
              "      <td>...</td>\n",
              "      <td>...</td>\n",
              "      <td>...</td>\n",
              "      <td>...</td>\n",
              "    </tr>\n",
              "    <tr>\n",
              "      <th>148</th>\n",
              "      <td>False</td>\n",
              "      <td>False</td>\n",
              "      <td>False</td>\n",
              "      <td>False</td>\n",
              "      <td>False</td>\n",
              "      <td>False</td>\n",
              "    </tr>\n",
              "    <tr>\n",
              "      <th>149</th>\n",
              "      <td>False</td>\n",
              "      <td>False</td>\n",
              "      <td>True</td>\n",
              "      <td>False</td>\n",
              "      <td>False</td>\n",
              "      <td>False</td>\n",
              "    </tr>\n",
              "    <tr>\n",
              "      <th>153</th>\n",
              "      <td>False</td>\n",
              "      <td>False</td>\n",
              "      <td>False</td>\n",
              "      <td>False</td>\n",
              "      <td>False</td>\n",
              "      <td>False</td>\n",
              "    </tr>\n",
              "    <tr>\n",
              "      <th>154</th>\n",
              "      <td>False</td>\n",
              "      <td>False</td>\n",
              "      <td>False</td>\n",
              "      <td>False</td>\n",
              "      <td>False</td>\n",
              "      <td>False</td>\n",
              "    </tr>\n",
              "    <tr>\n",
              "      <th>155</th>\n",
              "      <td>False</td>\n",
              "      <td>False</td>\n",
              "      <td>False</td>\n",
              "      <td>False</td>\n",
              "      <td>False</td>\n",
              "      <td>False</td>\n",
              "    </tr>\n",
              "  </tbody>\n",
              "</table>\n",
              "<p>153 rows × 6 columns</p>\n",
              "</div>"
            ],
            "text/plain": [
              "        Id  Sepal_Length_inches  ...  Petal_Width_inches  Species\n",
              "0    False                False  ...               False    False\n",
              "1    False                 True  ...               False    False\n",
              "2    False                False  ...               False    False\n",
              "3    False                False  ...               False    False\n",
              "4    False                False  ...               False    False\n",
              "..     ...                  ...  ...                 ...      ...\n",
              "148  False                False  ...               False    False\n",
              "149  False                False  ...               False    False\n",
              "153  False                False  ...               False    False\n",
              "154  False                False  ...               False    False\n",
              "155  False                False  ...               False    False\n",
              "\n",
              "[153 rows x 6 columns]"
            ]
          },
          "metadata": {},
          "execution_count": 109
        }
      ]
    },
    {
      "cell_type": "code",
      "metadata": {
        "colab": {
          "base_uri": "https://localhost:8080/"
        },
        "id": "xMhVew8T3ayA",
        "outputId": "11401667-0d33-47ca-972c-03049165b49c"
      },
      "source": [
        "# check for missing values in each column\n",
        "df.isnull().any()"
      ],
      "execution_count": 110,
      "outputs": [
        {
          "output_type": "execute_result",
          "data": {
            "text/plain": [
              "Id                     False\n",
              "Sepal_Length_inches     True\n",
              "Sepal_Width_inches      True\n",
              "Petal_Length_inches    False\n",
              "Petal_Width_inches     False\n",
              "Species                False\n",
              "dtype: bool"
            ]
          },
          "metadata": {},
          "execution_count": 110
        }
      ]
    },
    {
      "cell_type": "code",
      "metadata": {
        "colab": {
          "base_uri": "https://localhost:8080/"
        },
        "id": "G3-Ky3zn4BSf",
        "outputId": "b57479ac-ca16-4159-a14b-b84deaed863f"
      },
      "source": [
        "# check how many missing values there are across each variable/column by\n",
        "df.isnull().sum()"
      ],
      "execution_count": 111,
      "outputs": [
        {
          "output_type": "execute_result",
          "data": {
            "text/plain": [
              "Id                      0\n",
              "Sepal_Length_inches     6\n",
              "Sepal_Width_inches     26\n",
              "Petal_Length_inches     0\n",
              "Petal_Width_inches      0\n",
              "Species                 0\n",
              "dtype: int64"
            ]
          },
          "metadata": {},
          "execution_count": 111
        }
      ]
    },
    {
      "cell_type": "code",
      "metadata": {
        "colab": {
          "base_uri": "https://localhost:8080/"
        },
        "id": "8bUlIo_84Plc",
        "outputId": "d2238728-7a5e-44c0-d3ca-e6d1f9c49d62"
      },
      "source": [
        "# check to see if we have any missing values\n",
        "df.isnull().values.any()"
      ],
      "execution_count": 112,
      "outputs": [
        {
          "output_type": "execute_result",
          "data": {
            "text/plain": [
              "True"
            ]
          },
          "metadata": {},
          "execution_count": 112
        }
      ]
    },
    {
      "cell_type": "code",
      "metadata": {
        "colab": {
          "base_uri": "https://localhost:8080/"
        },
        "id": "eLp4xhcn4bLu",
        "outputId": "a46388b1-f052-4ffc-d103-583f6558f347"
      },
      "source": [
        "# total number of missing values \n",
        "df.isnull().sum().sum()"
      ],
      "execution_count": 113,
      "outputs": [
        {
          "output_type": "execute_result",
          "data": {
            "text/plain": [
              "32"
            ]
          },
          "metadata": {},
          "execution_count": 113
        }
      ]
    },
    {
      "cell_type": "code",
      "metadata": {
        "colab": {
          "base_uri": "https://localhost:8080/",
          "height": 424
        },
        "id": "nPQzTnxv4tFb",
        "outputId": "47795967-58fc-4d10-ac0d-e395d447b249"
      },
      "source": [
        "# one solution of dealing with missing values is to drop it, the command below will drop rows that has nan for all cells.\n",
        "df = df.dropna(how='all')\n",
        "df"
      ],
      "execution_count": 114,
      "outputs": [
        {
          "output_type": "execute_result",
          "data": {
            "text/html": [
              "<div>\n",
              "<style scoped>\n",
              "    .dataframe tbody tr th:only-of-type {\n",
              "        vertical-align: middle;\n",
              "    }\n",
              "\n",
              "    .dataframe tbody tr th {\n",
              "        vertical-align: top;\n",
              "    }\n",
              "\n",
              "    .dataframe thead th {\n",
              "        text-align: right;\n",
              "    }\n",
              "</style>\n",
              "<table border=\"1\" class=\"dataframe\">\n",
              "  <thead>\n",
              "    <tr style=\"text-align: right;\">\n",
              "      <th></th>\n",
              "      <th>Id</th>\n",
              "      <th>Sepal_Length_inches</th>\n",
              "      <th>Sepal_Width_inches</th>\n",
              "      <th>Petal_Length_inches</th>\n",
              "      <th>Petal_Width_inches</th>\n",
              "      <th>Species</th>\n",
              "    </tr>\n",
              "  </thead>\n",
              "  <tbody>\n",
              "    <tr>\n",
              "      <th>0</th>\n",
              "      <td>1</td>\n",
              "      <td>2.01</td>\n",
              "      <td>1.38</td>\n",
              "      <td>0.55</td>\n",
              "      <td>0.08</td>\n",
              "      <td>setosa</td>\n",
              "    </tr>\n",
              "    <tr>\n",
              "      <th>1</th>\n",
              "      <td>2</td>\n",
              "      <td>NaN</td>\n",
              "      <td>NaN</td>\n",
              "      <td>0.55</td>\n",
              "      <td>0.08</td>\n",
              "      <td>setosa</td>\n",
              "    </tr>\n",
              "    <tr>\n",
              "      <th>2</th>\n",
              "      <td>3</td>\n",
              "      <td>1.85</td>\n",
              "      <td>1.26</td>\n",
              "      <td>0.51</td>\n",
              "      <td>0.08</td>\n",
              "      <td>setosa</td>\n",
              "    </tr>\n",
              "    <tr>\n",
              "      <th>3</th>\n",
              "      <td>4</td>\n",
              "      <td>1.81</td>\n",
              "      <td>1.22</td>\n",
              "      <td>0.59</td>\n",
              "      <td>0.08</td>\n",
              "      <td>setosa</td>\n",
              "    </tr>\n",
              "    <tr>\n",
              "      <th>4</th>\n",
              "      <td>5</td>\n",
              "      <td>1.97</td>\n",
              "      <td>1.42</td>\n",
              "      <td>0.55</td>\n",
              "      <td>0.08</td>\n",
              "      <td>setosa</td>\n",
              "    </tr>\n",
              "    <tr>\n",
              "      <th>...</th>\n",
              "      <td>...</td>\n",
              "      <td>...</td>\n",
              "      <td>...</td>\n",
              "      <td>...</td>\n",
              "      <td>...</td>\n",
              "      <td>...</td>\n",
              "    </tr>\n",
              "    <tr>\n",
              "      <th>148</th>\n",
              "      <td>149</td>\n",
              "      <td>2.44</td>\n",
              "      <td>1.34</td>\n",
              "      <td>2.13</td>\n",
              "      <td>0.91</td>\n",
              "      <td>virginica</td>\n",
              "    </tr>\n",
              "    <tr>\n",
              "      <th>149</th>\n",
              "      <td>150</td>\n",
              "      <td>2.32</td>\n",
              "      <td>NaN</td>\n",
              "      <td>2.01</td>\n",
              "      <td>0.71</td>\n",
              "      <td>virginica</td>\n",
              "    </tr>\n",
              "    <tr>\n",
              "      <th>153</th>\n",
              "      <td>1</td>\n",
              "      <td>2.01</td>\n",
              "      <td>1.38</td>\n",
              "      <td>0.55</td>\n",
              "      <td>2.32</td>\n",
              "      <td>setosa</td>\n",
              "    </tr>\n",
              "    <tr>\n",
              "      <th>154</th>\n",
              "      <td>1</td>\n",
              "      <td>2.01</td>\n",
              "      <td>1.38</td>\n",
              "      <td>0.55</td>\n",
              "      <td>2.52</td>\n",
              "      <td>setosa</td>\n",
              "    </tr>\n",
              "    <tr>\n",
              "      <th>155</th>\n",
              "      <td>1</td>\n",
              "      <td>2.01</td>\n",
              "      <td>1.38</td>\n",
              "      <td>0.55</td>\n",
              "      <td>0.00</td>\n",
              "      <td>setosa</td>\n",
              "    </tr>\n",
              "  </tbody>\n",
              "</table>\n",
              "<p>153 rows × 6 columns</p>\n",
              "</div>"
            ],
            "text/plain": [
              "      Id  Sepal_Length_inches  ...  Petal_Width_inches    Species\n",
              "0      1                 2.01  ...                0.08     setosa\n",
              "1      2                  NaN  ...                0.08     setosa\n",
              "2      3                 1.85  ...                0.08     setosa\n",
              "3      4                 1.81  ...                0.08     setosa\n",
              "4      5                 1.97  ...                0.08     setosa\n",
              "..   ...                  ...  ...                 ...        ...\n",
              "148  149                 2.44  ...                0.91  virginica\n",
              "149  150                 2.32  ...                0.71  virginica\n",
              "153    1                 2.01  ...                2.32     setosa\n",
              "154    1                 2.01  ...                2.52     setosa\n",
              "155    1                 2.01  ...                0.00     setosa\n",
              "\n",
              "[153 rows x 6 columns]"
            ]
          },
          "metadata": {},
          "execution_count": 114
        }
      ]
    },
    {
      "cell_type": "code",
      "metadata": {
        "colab": {
          "base_uri": "https://localhost:8080/",
          "height": 206
        },
        "id": "pIRu0f3m5Q7j",
        "outputId": "5da336f9-ac20-4b52-a7de-7034bf9ae19a"
      },
      "source": [
        "# the command below will drop columns that have nan for all inputs. \n",
        "df = df.dropna(axis=1, how='all')\n",
        "df.head()"
      ],
      "execution_count": 115,
      "outputs": [
        {
          "output_type": "execute_result",
          "data": {
            "text/html": [
              "<div>\n",
              "<style scoped>\n",
              "    .dataframe tbody tr th:only-of-type {\n",
              "        vertical-align: middle;\n",
              "    }\n",
              "\n",
              "    .dataframe tbody tr th {\n",
              "        vertical-align: top;\n",
              "    }\n",
              "\n",
              "    .dataframe thead th {\n",
              "        text-align: right;\n",
              "    }\n",
              "</style>\n",
              "<table border=\"1\" class=\"dataframe\">\n",
              "  <thead>\n",
              "    <tr style=\"text-align: right;\">\n",
              "      <th></th>\n",
              "      <th>Id</th>\n",
              "      <th>Sepal_Length_inches</th>\n",
              "      <th>Sepal_Width_inches</th>\n",
              "      <th>Petal_Length_inches</th>\n",
              "      <th>Petal_Width_inches</th>\n",
              "      <th>Species</th>\n",
              "    </tr>\n",
              "  </thead>\n",
              "  <tbody>\n",
              "    <tr>\n",
              "      <th>0</th>\n",
              "      <td>1</td>\n",
              "      <td>2.01</td>\n",
              "      <td>1.38</td>\n",
              "      <td>0.55</td>\n",
              "      <td>0.08</td>\n",
              "      <td>setosa</td>\n",
              "    </tr>\n",
              "    <tr>\n",
              "      <th>1</th>\n",
              "      <td>2</td>\n",
              "      <td>NaN</td>\n",
              "      <td>NaN</td>\n",
              "      <td>0.55</td>\n",
              "      <td>0.08</td>\n",
              "      <td>setosa</td>\n",
              "    </tr>\n",
              "    <tr>\n",
              "      <th>2</th>\n",
              "      <td>3</td>\n",
              "      <td>1.85</td>\n",
              "      <td>1.26</td>\n",
              "      <td>0.51</td>\n",
              "      <td>0.08</td>\n",
              "      <td>setosa</td>\n",
              "    </tr>\n",
              "    <tr>\n",
              "      <th>3</th>\n",
              "      <td>4</td>\n",
              "      <td>1.81</td>\n",
              "      <td>1.22</td>\n",
              "      <td>0.59</td>\n",
              "      <td>0.08</td>\n",
              "      <td>setosa</td>\n",
              "    </tr>\n",
              "    <tr>\n",
              "      <th>4</th>\n",
              "      <td>5</td>\n",
              "      <td>1.97</td>\n",
              "      <td>1.42</td>\n",
              "      <td>0.55</td>\n",
              "      <td>0.08</td>\n",
              "      <td>setosa</td>\n",
              "    </tr>\n",
              "  </tbody>\n",
              "</table>\n",
              "</div>"
            ],
            "text/plain": [
              "   Id  Sepal_Length_inches  ...  Petal_Width_inches  Species\n",
              "0   1                 2.01  ...                0.08   setosa\n",
              "1   2                  NaN  ...                0.08   setosa\n",
              "2   3                 1.85  ...                0.08   setosa\n",
              "3   4                 1.81  ...                0.08   setosa\n",
              "4   5                 1.97  ...                0.08   setosa\n",
              "\n",
              "[5 rows x 6 columns]"
            ]
          },
          "metadata": {},
          "execution_count": 115
        }
      ]
    },
    {
      "cell_type": "code",
      "metadata": {
        "colab": {
          "base_uri": "https://localhost:8080/",
          "height": 424
        },
        "id": "cAKSfBg_5yMC",
        "outputId": "238e002d-cb10-419e-d8e3-a7f1048b6c8a"
      },
      "source": [
        "# We can drop rows that contain less than 6 observations\n",
        "df = df.dropna(axis=0, how='any', thresh=6, inplace=False)\n",
        "df"
      ],
      "execution_count": 116,
      "outputs": [
        {
          "output_type": "execute_result",
          "data": {
            "text/html": [
              "<div>\n",
              "<style scoped>\n",
              "    .dataframe tbody tr th:only-of-type {\n",
              "        vertical-align: middle;\n",
              "    }\n",
              "\n",
              "    .dataframe tbody tr th {\n",
              "        vertical-align: top;\n",
              "    }\n",
              "\n",
              "    .dataframe thead th {\n",
              "        text-align: right;\n",
              "    }\n",
              "</style>\n",
              "<table border=\"1\" class=\"dataframe\">\n",
              "  <thead>\n",
              "    <tr style=\"text-align: right;\">\n",
              "      <th></th>\n",
              "      <th>Id</th>\n",
              "      <th>Sepal_Length_inches</th>\n",
              "      <th>Sepal_Width_inches</th>\n",
              "      <th>Petal_Length_inches</th>\n",
              "      <th>Petal_Width_inches</th>\n",
              "      <th>Species</th>\n",
              "    </tr>\n",
              "  </thead>\n",
              "  <tbody>\n",
              "    <tr>\n",
              "      <th>0</th>\n",
              "      <td>1</td>\n",
              "      <td>2.01</td>\n",
              "      <td>1.38</td>\n",
              "      <td>0.55</td>\n",
              "      <td>0.08</td>\n",
              "      <td>setosa</td>\n",
              "    </tr>\n",
              "    <tr>\n",
              "      <th>2</th>\n",
              "      <td>3</td>\n",
              "      <td>1.85</td>\n",
              "      <td>1.26</td>\n",
              "      <td>0.51</td>\n",
              "      <td>0.08</td>\n",
              "      <td>setosa</td>\n",
              "    </tr>\n",
              "    <tr>\n",
              "      <th>3</th>\n",
              "      <td>4</td>\n",
              "      <td>1.81</td>\n",
              "      <td>1.22</td>\n",
              "      <td>0.59</td>\n",
              "      <td>0.08</td>\n",
              "      <td>setosa</td>\n",
              "    </tr>\n",
              "    <tr>\n",
              "      <th>4</th>\n",
              "      <td>5</td>\n",
              "      <td>1.97</td>\n",
              "      <td>1.42</td>\n",
              "      <td>0.55</td>\n",
              "      <td>0.08</td>\n",
              "      <td>setosa</td>\n",
              "    </tr>\n",
              "    <tr>\n",
              "      <th>5</th>\n",
              "      <td>6</td>\n",
              "      <td>2.13</td>\n",
              "      <td>1.54</td>\n",
              "      <td>0.67</td>\n",
              "      <td>0.16</td>\n",
              "      <td>setosa</td>\n",
              "    </tr>\n",
              "    <tr>\n",
              "      <th>...</th>\n",
              "      <td>...</td>\n",
              "      <td>...</td>\n",
              "      <td>...</td>\n",
              "      <td>...</td>\n",
              "      <td>...</td>\n",
              "      <td>...</td>\n",
              "    </tr>\n",
              "    <tr>\n",
              "      <th>146</th>\n",
              "      <td>147</td>\n",
              "      <td>2.48</td>\n",
              "      <td>0.98</td>\n",
              "      <td>1.97</td>\n",
              "      <td>0.75</td>\n",
              "      <td>virginica</td>\n",
              "    </tr>\n",
              "    <tr>\n",
              "      <th>148</th>\n",
              "      <td>149</td>\n",
              "      <td>2.44</td>\n",
              "      <td>1.34</td>\n",
              "      <td>2.13</td>\n",
              "      <td>0.91</td>\n",
              "      <td>virginica</td>\n",
              "    </tr>\n",
              "    <tr>\n",
              "      <th>153</th>\n",
              "      <td>1</td>\n",
              "      <td>2.01</td>\n",
              "      <td>1.38</td>\n",
              "      <td>0.55</td>\n",
              "      <td>2.32</td>\n",
              "      <td>setosa</td>\n",
              "    </tr>\n",
              "    <tr>\n",
              "      <th>154</th>\n",
              "      <td>1</td>\n",
              "      <td>2.01</td>\n",
              "      <td>1.38</td>\n",
              "      <td>0.55</td>\n",
              "      <td>2.52</td>\n",
              "      <td>setosa</td>\n",
              "    </tr>\n",
              "    <tr>\n",
              "      <th>155</th>\n",
              "      <td>1</td>\n",
              "      <td>2.01</td>\n",
              "      <td>1.38</td>\n",
              "      <td>0.55</td>\n",
              "      <td>0.00</td>\n",
              "      <td>setosa</td>\n",
              "    </tr>\n",
              "  </tbody>\n",
              "</table>\n",
              "<p>122 rows × 6 columns</p>\n",
              "</div>"
            ],
            "text/plain": [
              "      Id  Sepal_Length_inches  ...  Petal_Width_inches    Species\n",
              "0      1                 2.01  ...                0.08     setosa\n",
              "2      3                 1.85  ...                0.08     setosa\n",
              "3      4                 1.81  ...                0.08     setosa\n",
              "4      5                 1.97  ...                0.08     setosa\n",
              "5      6                 2.13  ...                0.16     setosa\n",
              "..   ...                  ...  ...                 ...        ...\n",
              "146  147                 2.48  ...                0.75  virginica\n",
              "148  149                 2.44  ...                0.91  virginica\n",
              "153    1                 2.01  ...                2.32     setosa\n",
              "154    1                 2.01  ...                2.52     setosa\n",
              "155    1                 2.01  ...                0.00     setosa\n",
              "\n",
              "[122 rows x 6 columns]"
            ]
          },
          "metadata": {},
          "execution_count": 116
        }
      ]
    },
    {
      "cell_type": "code",
      "metadata": {
        "colab": {
          "base_uri": "https://localhost:8080/"
        },
        "id": "hlKUUeuj5580",
        "outputId": "613dcb65-e55a-4b11-e035-6f88558f3252"
      },
      "source": [
        "#check the number of duplicated rows after remove the duplication\n",
        "df.isnull().sum()"
      ],
      "execution_count": 117,
      "outputs": [
        {
          "output_type": "execute_result",
          "data": {
            "text/plain": [
              "Id                     0\n",
              "Sepal_Length_inches    0\n",
              "Sepal_Width_inches     0\n",
              "Petal_Length_inches    0\n",
              "Petal_Width_inches     0\n",
              "Species                0\n",
              "dtype: int64"
            ]
          },
          "metadata": {},
          "execution_count": 117
        }
      ]
    },
    {
      "cell_type": "code",
      "metadata": {
        "id": "oTe42GME6oPp"
      },
      "source": [
        "# we allso can fill the cells with null values, in this dataframe we do not have. \n",
        "df = df.fillna(0)"
      ],
      "execution_count": 118,
      "outputs": []
    },
    {
      "cell_type": "code",
      "metadata": {
        "colab": {
          "base_uri": "https://localhost:8080/"
        },
        "id": "4exLtRPZ7N79",
        "outputId": "c1724cc7-ee85-47ee-e9dc-3931e7ce350c"
      },
      "source": [
        "df.shape"
      ],
      "execution_count": 119,
      "outputs": [
        {
          "output_type": "execute_result",
          "data": {
            "text/plain": [
              "(122, 6)"
            ]
          },
          "metadata": {},
          "execution_count": 119
        }
      ]
    },
    {
      "cell_type": "markdown",
      "metadata": {
        "id": "AwJIS3HYw982"
      },
      "source": [
        "## 5. Outliers"
      ]
    },
    {
      "cell_type": "code",
      "metadata": {
        "colab": {
          "base_uri": "https://localhost:8080/",
          "height": 279
        },
        "id": "HwKhWR2H_AKt",
        "outputId": "3b816406-f700-45f8-f458-bcb8cd732123"
      },
      "source": [
        "import seaborn as sns\n",
        "# check the outliers of 'Sepal_Width_inches' for each species, there are outliers for 'setosa'.\n",
        "# how to remove the outliers???\n",
        "bplot = sns.boxplot(y='Petal_Width_inches', x='Species', data = df, width=0.5, palette=\"colorblind\")"
      ],
      "execution_count": 120,
      "outputs": [
        {
          "output_type": "display_data",
          "data": {
            "image/png": "[encoded data removed]",
            "text/plain": [
              "<Figure size 432x288 with 1 Axes>"
            ]
          },
          "metadata": {
            "needs_background": "light"
          }
        }
      ]
    },
    {
      "cell_type": "code",
      "metadata": {
        "colab": {
          "base_uri": "https://localhost:8080/"
        },
        "id": "8hYy3veXsQpD",
        "outputId": "63de97ce-38e8-4291-e666-98275ab2c684"
      },
      "source": [
        "df.shape"
      ],
      "execution_count": 121,
      "outputs": [
        {
          "output_type": "execute_result",
          "data": {
            "text/plain": [
              "(122, 6)"
            ]
          },
          "metadata": {},
          "execution_count": 121
        }
      ]
    },
    {
      "cell_type": "code",
      "metadata": {
        "colab": {
          "base_uri": "https://localhost:8080/"
        },
        "id": "bRQrPIJ3-w91",
        "outputId": "200bd571-f92c-4816-903b-bd40d96d56a3"
      },
      "source": [
        "# Dealing with Outliers using the Interquantile range\n",
        "Q1 = df['Petal_Width_inches'].quantile(0.25)\n",
        "Q3 = df['Petal_Width_inches'].quantile(0.75)\n",
        "IQR = Q3 - Q1\n",
        "IQR"
      ],
      "execution_count": 122,
      "outputs": [
        {
          "output_type": "execute_result",
          "data": {
            "text/plain": [
              "0.59"
            ]
          },
          "metadata": {},
          "execution_count": 122
        }
      ]
    },
    {
      "cell_type": "code",
      "metadata": {
        "colab": {
          "base_uri": "https://localhost:8080/"
        },
        "id": "rmCqk_-o3TKj",
        "outputId": "2c5e60ec-1c60-4a88-f6f1-8c49ed644397"
      },
      "source": [
        "lower_limit = Q1 - 1.5 * IQR\n",
        "upper_limit = Q3 + 1.5 * IQR\n",
        "lower_limit, upper_limit"
      ],
      "execution_count": 123,
      "outputs": [
        {
          "output_type": "execute_result",
          "data": {
            "text/plain": [
              "(-0.765, 1.595)"
            ]
          },
          "metadata": {},
          "execution_count": 123
        }
      ]
    },
    {
      "cell_type": "code",
      "metadata": {
        "colab": {
          "base_uri": "https://localhost:8080/",
          "height": 112
        },
        "id": "mqOpwClBsZmU",
        "outputId": "e25cf3af-cdca-49a9-b4ad-1b2341f18ae3"
      },
      "source": [
        "# show the outliers\n",
        "outliers_df_iqr = df[((df['Petal_Width_inches'] < lower_limit) |(df['Petal_Width_inches'] > upper_limit))]\n",
        "outliers_df_iqr"
      ],
      "execution_count": 124,
      "outputs": [
        {
          "output_type": "execute_result",
          "data": {
            "text/html": [
              "<div>\n",
              "<style scoped>\n",
              "    .dataframe tbody tr th:only-of-type {\n",
              "        vertical-align: middle;\n",
              "    }\n",
              "\n",
              "    .dataframe tbody tr th {\n",
              "        vertical-align: top;\n",
              "    }\n",
              "\n",
              "    .dataframe thead th {\n",
              "        text-align: right;\n",
              "    }\n",
              "</style>\n",
              "<table border=\"1\" class=\"dataframe\">\n",
              "  <thead>\n",
              "    <tr style=\"text-align: right;\">\n",
              "      <th></th>\n",
              "      <th>Id</th>\n",
              "      <th>Sepal_Length_inches</th>\n",
              "      <th>Sepal_Width_inches</th>\n",
              "      <th>Petal_Length_inches</th>\n",
              "      <th>Petal_Width_inches</th>\n",
              "      <th>Species</th>\n",
              "    </tr>\n",
              "  </thead>\n",
              "  <tbody>\n",
              "    <tr>\n",
              "      <th>153</th>\n",
              "      <td>1</td>\n",
              "      <td>2.01</td>\n",
              "      <td>1.38</td>\n",
              "      <td>0.55</td>\n",
              "      <td>2.32</td>\n",
              "      <td>setosa</td>\n",
              "    </tr>\n",
              "    <tr>\n",
              "      <th>154</th>\n",
              "      <td>1</td>\n",
              "      <td>2.01</td>\n",
              "      <td>1.38</td>\n",
              "      <td>0.55</td>\n",
              "      <td>2.52</td>\n",
              "      <td>setosa</td>\n",
              "    </tr>\n",
              "  </tbody>\n",
              "</table>\n",
              "</div>"
            ],
            "text/plain": [
              "     Id  Sepal_Length_inches  ...  Petal_Width_inches  Species\n",
              "153   1                 2.01  ...                2.32   setosa\n",
              "154   1                 2.01  ...                2.52   setosa\n",
              "\n",
              "[2 rows x 6 columns]"
            ]
          },
          "metadata": {},
          "execution_count": 124
        }
      ]
    },
    {
      "cell_type": "code",
      "metadata": {
        "colab": {
          "base_uri": "https://localhost:8080/",
          "height": 206
        },
        "id": "RwiB59hfzDHu",
        "outputId": "41b5c88c-920a-497d-f097-ac329fdef461"
      },
      "source": [
        "Without_outliers_df = outliers_df_iqr = df[((df['Petal_Width_inches'] > lower_limit) & (df['Petal_Width_inches'] < upper_limit))]\n",
        "Without_outliers_df.head()"
      ],
      "execution_count": 125,
      "outputs": [
        {
          "output_type": "execute_result",
          "data": {
            "text/html": [
              "<div>\n",
              "<style scoped>\n",
              "    .dataframe tbody tr th:only-of-type {\n",
              "        vertical-align: middle;\n",
              "    }\n",
              "\n",
              "    .dataframe tbody tr th {\n",
              "        vertical-align: top;\n",
              "    }\n",
              "\n",
              "    .dataframe thead th {\n",
              "        text-align: right;\n",
              "    }\n",
              "</style>\n",
              "<table border=\"1\" class=\"dataframe\">\n",
              "  <thead>\n",
              "    <tr style=\"text-align: right;\">\n",
              "      <th></th>\n",
              "      <th>Id</th>\n",
              "      <th>Sepal_Length_inches</th>\n",
              "      <th>Sepal_Width_inches</th>\n",
              "      <th>Petal_Length_inches</th>\n",
              "      <th>Petal_Width_inches</th>\n",
              "      <th>Species</th>\n",
              "    </tr>\n",
              "  </thead>\n",
              "  <tbody>\n",
              "    <tr>\n",
              "      <th>0</th>\n",
              "      <td>1</td>\n",
              "      <td>2.01</td>\n",
              "      <td>1.38</td>\n",
              "      <td>0.55</td>\n",
              "      <td>0.08</td>\n",
              "      <td>setosa</td>\n",
              "    </tr>\n",
              "    <tr>\n",
              "      <th>2</th>\n",
              "      <td>3</td>\n",
              "      <td>1.85</td>\n",
              "      <td>1.26</td>\n",
              "      <td>0.51</td>\n",
              "      <td>0.08</td>\n",
              "      <td>setosa</td>\n",
              "    </tr>\n",
              "    <tr>\n",
              "      <th>3</th>\n",
              "      <td>4</td>\n",
              "      <td>1.81</td>\n",
              "      <td>1.22</td>\n",
              "      <td>0.59</td>\n",
              "      <td>0.08</td>\n",
              "      <td>setosa</td>\n",
              "    </tr>\n",
              "    <tr>\n",
              "      <th>4</th>\n",
              "      <td>5</td>\n",
              "      <td>1.97</td>\n",
              "      <td>1.42</td>\n",
              "      <td>0.55</td>\n",
              "      <td>0.08</td>\n",
              "      <td>setosa</td>\n",
              "    </tr>\n",
              "    <tr>\n",
              "      <th>5</th>\n",
              "      <td>6</td>\n",
              "      <td>2.13</td>\n",
              "      <td>1.54</td>\n",
              "      <td>0.67</td>\n",
              "      <td>0.16</td>\n",
              "      <td>setosa</td>\n",
              "    </tr>\n",
              "  </tbody>\n",
              "</table>\n",
              "</div>"
            ],
            "text/plain": [
              "   Id  Sepal_Length_inches  ...  Petal_Width_inches  Species\n",
              "0   1                 2.01  ...                0.08   setosa\n",
              "2   3                 1.85  ...                0.08   setosa\n",
              "3   4                 1.81  ...                0.08   setosa\n",
              "4   5                 1.97  ...                0.08   setosa\n",
              "5   6                 2.13  ...                0.16   setosa\n",
              "\n",
              "[5 rows x 6 columns]"
            ]
          },
          "metadata": {},
          "execution_count": 125
        }
      ]
    },
    {
      "cell_type": "code",
      "metadata": {
        "colab": {
          "base_uri": "https://localhost:8080/"
        },
        "id": "knkaceBO0YeA",
        "outputId": "597baa34-ffed-4a69-b89e-93736bcebe69"
      },
      "source": [
        "df['Petal_Width_inches'].describe()"
      ],
      "execution_count": 126,
      "outputs": [
        {
          "output_type": "execute_result",
          "data": {
            "text/plain": [
              "count    122.000000\n",
              "mean       0.492787\n",
              "std        0.388777\n",
              "min        0.000000\n",
              "25%        0.120000\n",
              "50%        0.510000\n",
              "75%        0.710000\n",
              "max        2.520000\n",
              "Name: Petal_Width_inches, dtype: float64"
            ]
          },
          "metadata": {},
          "execution_count": 126
        }
      ]
    },
    {
      "cell_type": "code",
      "metadata": {
        "colab": {
          "base_uri": "https://localhost:8080/"
        },
        "id": "nLmPYyFP0BoO",
        "outputId": "c6b8aa88-7c76-4576-9ac9-1fb1f159bccc"
      },
      "source": [
        "Without_outliers_df['Petal_Width_inches'].describe()"
      ],
      "execution_count": 127,
      "outputs": [
        {
          "output_type": "execute_result",
          "data": {
            "text/plain": [
              "count    120.000000\n",
              "mean       0.460667\n",
              "std        0.300094\n",
              "min        0.000000\n",
              "25%        0.120000\n",
              "50%        0.510000\n",
              "75%        0.710000\n",
              "max        0.980000\n",
              "Name: Petal_Width_inches, dtype: float64"
            ]
          },
          "metadata": {},
          "execution_count": 127
        }
      ]
    },
    {
      "cell_type": "code",
      "metadata": {
        "colab": {
          "base_uri": "https://localhost:8080/",
          "height": 279
        },
        "id": "ixHKGWNy-hJr",
        "outputId": "f671e21a-9de9-45ae-94bd-624e9545331f"
      },
      "source": [
        "bplot = sns.boxplot(y='Petal_Width_inches', x='Species', data = Without_outliers_df, width=0.5, palette=\"colorblind\")"
      ],
      "execution_count": 128,
      "outputs": [
        {
          "output_type": "display_data",
          "data": {
            "image/png": "[encoded data removed]",
            "text/plain": [
              "<Figure size 432x288 with 1 Axes>"
            ]
          },
          "metadata": {
            "needs_background": "light"
          }
        }
      ]
    }
  ]
}